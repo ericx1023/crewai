{
 "cells": [
  {
   "cell_type": "markdown",
   "metadata": {},
   "source": [
    "You can download the `requirements.txt` for this course from the workspace of this lab. `File --> Open...`"
   ]
  },
  {
   "cell_type": "markdown",
   "metadata": {},
   "source": [
    "# L2: Create Agents to Research and Write an Article\n",
    "\n",
    "In this lesson, you will be introduced to the foundational concepts of multi-agent systems and get an overview of the crewAI framework."
   ]
  },
  {
   "cell_type": "markdown",
   "metadata": {},
   "source": [
    "The libraries are already installed in the classroom. If you're running this notebook on your own machine, you can install the following:\n",
    "```Python\n",
    "!pip install crewai==0.28.8 crewai_tools==0.1.6 langchain_community==0.0.29\n",
    "```"
   ]
  },
  {
   "cell_type": "code",
   "execution_count": 1,
   "metadata": {
    "height": 64
   },
   "outputs": [],
   "source": [
    "# Warning control\n",
    "import warnings\n",
    "warnings.filterwarnings('ignore')"
   ]
  },
  {
   "cell_type": "markdown",
   "metadata": {},
   "source": [
    "- Import from the crewAI libray."
   ]
  },
  {
   "cell_type": "code",
   "execution_count": 2,
   "metadata": {
    "height": 30
   },
   "outputs": [],
   "source": [
    "from crewai import Agent, Task, Crew"
   ]
  },
  {
   "cell_type": "markdown",
   "metadata": {},
   "source": [
    "- As a LLM for your agents, you'll be using OpenAI's `gpt-3.5-turbo`.\n",
    "\n",
    "**Optional Note:** crewAI also allow other popular models to be used as a LLM for your Agents. You can see some of the examples at the [bottom of the notebook](#1)."
   ]
  },
  {
   "cell_type": "code",
   "execution_count": 3,
   "metadata": {
    "height": 98
   },
   "outputs": [],
   "source": [
    "import os\n",
    "from utils import get_openai_api_key\n",
    "\n",
    "openai_api_key = get_openai_api_key()\n",
    "os.environ[\"OPENAI_MODEL_NAME\"] = 'gpt-4o'"
   ]
  },
  {
   "cell_type": "markdown",
   "metadata": {},
   "source": [
    "## Creating Agents\n",
    "\n",
    "- Define your Agents, and provide them a `role`, `goal` and `backstory`.\n",
    "- It has been seen that LLMs perform better when they are role playing."
   ]
  },
  {
   "cell_type": "markdown",
   "metadata": {},
   "source": [
    "### Agent: Planner\n",
    "\n",
    "**Note**: The benefit of using _multiple strings_ :\n",
    "```Python\n",
    "varname = \"line 1 of text\"\n",
    "          \"line 2 of text\"\n",
    "```\n",
    "\n",
    "versus the _triple quote docstring_:\n",
    "```Python\n",
    "varname = \"\"\"line 1 of text\n",
    "             line 2 of text\n",
    "          \"\"\"\n",
    "```\n",
    "is that it can avoid adding those whitespaces and newline characters, making it better formatted to be passed to the LLM."
   ]
  },
  {
   "cell_type": "code",
   "execution_count": 4,
   "metadata": {
    "height": 234
   },
   "outputs": [],
   "source": [
    "planner = Agent(\n",
    "    role=\"Content Planner\",\n",
    "    goal=\"Plan engaging and factually accurate content on {topic}\",\n",
    "    backstory=\"You're working on planning a blog article \"\n",
    "              \"about the topic: {topic}.\"\n",
    "              \"You collect information that helps the \"\n",
    "              \"audience learn something \"\n",
    "              \"and make informed decisions. \"\n",
    "              \"Your work is the basis for \"\n",
    "              \"the Content Writer to write an article on this topic.\",\n",
    "    allow_delegation=False,\n",
    "\tverbose=True\n",
    ")"
   ]
  },
  {
   "cell_type": "markdown",
   "metadata": {},
   "source": [
    "### Agent: Writer"
   ]
  },
  {
   "cell_type": "code",
   "execution_count": 5,
   "metadata": {
    "height": 370
   },
   "outputs": [],
   "source": [
    "writer = Agent(\n",
    "    role=\"Content Writer\",\n",
    "    goal=\"Write insightful and factually accurate \"\n",
    "         \"opinion piece about the topic: {topic}\",\n",
    "    backstory=\"You're working on a writing \"\n",
    "              \"a new opinion piece about the topic: {topic}. \"\n",
    "              \"You base your writing on the work of \"\n",
    "              \"the Content Planner, who provides an outline \"\n",
    "              \"and relevant context about the topic. \"\n",
    "              \"You follow the main objectives and \"\n",
    "              \"direction of the outline, \"\n",
    "              \"as provide by the Content Planner. \"\n",
    "              \"You also provide objective and impartial insights \"\n",
    "              \"and back them up with information \"\n",
    "              \"provide by the Content Planner. \"\n",
    "              \"You acknowledge in your opinion piece \"\n",
    "              \"when your statements are opinions \"\n",
    "              \"as opposed to objective statements.\",\n",
    "    allow_delegation=False,\n",
    "    verbose=True\n",
    ")"
   ]
  },
  {
   "cell_type": "markdown",
   "metadata": {},
   "source": [
    "### Agent: Editor"
   ]
  },
  {
   "cell_type": "code",
   "execution_count": 6,
   "metadata": {
    "height": 268
   },
   "outputs": [],
   "source": [
    "editor = Agent(\n",
    "    role=\"Editor\",\n",
    "    goal=\"Edit a given blog post to align with \"\n",
    "         \"the writing style of the organization. \",\n",
    "    backstory=\"You are an editor who receives a blog post \"\n",
    "              \"from the Content Writer. \"\n",
    "              \"Your goal is to review the blog post \"\n",
    "              \"to ensure that it follows journalistic best practices,\"\n",
    "              \"provides balanced viewpoints \"\n",
    "              \"when providing opinions or assertions, \"\n",
    "              \"and also avoids major controversial topics \"\n",
    "              \"or opinions when possible.\",\n",
    "    allow_delegation=False,\n",
    "    verbose=True\n",
    ")"
   ]
  },
  {
   "cell_type": "markdown",
   "metadata": {},
   "source": [
    "## Creating Tasks\n",
    "\n",
    "- Define your Tasks, and provide them a `description`, `expected_output` and `agent`."
   ]
  },
  {
   "cell_type": "markdown",
   "metadata": {},
   "source": [
    "### Task: Plan"
   ]
  },
  {
   "cell_type": "code",
   "execution_count": 7,
   "metadata": {
    "height": 268
   },
   "outputs": [],
   "source": [
    "plan = Task(\n",
    "    description=(\n",
    "        \"1. Prioritize the latest trends, key players, \"\n",
    "            \"and noteworthy news on {topic}.\\n\"\n",
    "        \"2. Identify the target audience, considering \"\n",
    "            \"their interests and pain points.\\n\"\n",
    "        \"3. Develop a detailed content outline including \"\n",
    "            \"an introduction, key points, and a call to action.\\n\"\n",
    "        \"4. Include SEO keywords and relevant data or sources.\"\n",
    "    ),\n",
    "    expected_output=\"A comprehensive content plan document \"\n",
    "        \"with an outline, audience analysis, \"\n",
    "        \"SEO keywords, and resources.\",\n",
    "    agent=planner,\n",
    ")"
   ]
  },
  {
   "cell_type": "markdown",
   "metadata": {},
   "source": [
    "### Task: Write"
   ]
  },
  {
   "cell_type": "code",
   "execution_count": 8,
   "metadata": {
    "height": 319
   },
   "outputs": [],
   "source": [
    "write = Task(\n",
    "    description=(\n",
    "        \"1. Use the content plan to craft a compelling \"\n",
    "            \"blog post on {topic}.\\n\"\n",
    "        \"2. Incorporate SEO keywords naturally.\\n\"\n",
    "\t\t\"3. Sections/Subtitles are properly named \"\n",
    "            \"in an engaging manner.\\n\"\n",
    "        \"4. Ensure the post is structured with an \"\n",
    "            \"engaging introduction, insightful body, \"\n",
    "            \"and a summarizing conclusion.\\n\"\n",
    "        \"5. Proofread for grammatical errors and \"\n",
    "            \"alignment with the brand's voice.\\n\"\n",
    "    ),\n",
    "    expected_output=\"A well-written blog post \"\n",
    "        \"in markdown format, ready for publication, \"\n",
    "        \"each section should have 2 or 3 paragraphs.\",\n",
    "    agent=writer,\n",
    ")"
   ]
  },
  {
   "cell_type": "markdown",
   "metadata": {},
   "source": [
    "### Task: Edit"
   ]
  },
  {
   "cell_type": "code",
   "execution_count": 9,
   "metadata": {
    "height": 166
   },
   "outputs": [],
   "source": [
    "edit = Task(\n",
    "    description=(\"Proofread the given blog post for \"\n",
    "                 \"grammatical errors and \"\n",
    "                 \"alignment with the brand's voice.\"),\n",
    "    expected_output=\"A well-written blog post in markdown format, \"\n",
    "                    \"ready for publication, \"\n",
    "                    \"each section should have 2 or 3 paragraphs.\",\n",
    "    agent=editor\n",
    ")"
   ]
  },
  {
   "cell_type": "markdown",
   "metadata": {},
   "source": [
    "## Creating the Crew\n",
    "\n",
    "- Create your crew of Agents\n",
    "- Pass the tasks to be performed by those agents.\n",
    "    - **Note**: *For this simple example*, the tasks will be performed sequentially (i.e they are dependent on each other), so the _order_ of the task in the list _matters_.\n",
    "- `verbose=2` allows you to see all the logs of the execution. "
   ]
  },
  {
   "cell_type": "code",
   "execution_count": 10,
   "metadata": {
    "height": 98
   },
   "outputs": [],
   "source": [
    "crew = Crew(\n",
    "    agents=[planner, writer, editor],\n",
    "    tasks=[plan, write, edit],\n",
    "    verbose=2\n",
    ")"
   ]
  },
  {
   "cell_type": "markdown",
   "metadata": {},
   "source": [
    "## Running the Crew"
   ]
  },
  {
   "cell_type": "markdown",
   "metadata": {},
   "source": [
    "**Note**: LLMs can provide different outputs for they same input, so what you get might be different than what you see in the video."
   ]
  },
  {
   "cell_type": "code",
   "execution_count": null,
   "metadata": {
    "height": 30
   },
   "outputs": [
    {
     "name": "stderr",
     "output_type": "stream",
     "text": [
      "2024-05-17 10:22:08,480 - 140704415666432 - manager.py-manager:282 - WARNING: Error in TokenCalcHandler.on_llm_start callback: KeyError('Could not automatically map gpt-4o to a tokeniser. Please use `tiktoken.get_encoding` to explicitly get the tokeniser you expect.')\n",
      "2024-05-17 10:22:08,481 - 140704415666432 - manager.py-manager:282 - WARNING: Error in TokenCalcHandler.on_llm_start callback: KeyError('Could not automatically map gpt-4o to a tokeniser. Please use `tiktoken.get_encoding` to explicitly get the tokeniser you expect.')\n",
      "2024-05-17 10:22:08,482 - 140704415666432 - manager.py-manager:282 - WARNING: Error in TokenCalcHandler.on_llm_start callback: KeyError('Could not automatically map gpt-4o to a tokeniser. Please use `tiktoken.get_encoding` to explicitly get the tokeniser you expect.')\n"
     ]
    },
    {
     "name": "stdout",
     "output_type": "stream",
     "text": [
      "\u001b[1m\u001b[95m [DEBUG]: == Working Agent: Content Planner\u001b[00m\n",
      "\u001b[1m\u001b[95m [INFO]: == Starting Task: 1. Prioritize the latest trends, key players, and noteworthy news on Artificial Intelligence.\n",
      "2. Identify the target audience, considering their interests and pain points.\n",
      "3. Develop a detailed content outline including an introduction, key points, and a call to action.\n",
      "4. Include SEO keywords and relevant data or sources.\u001b[00m\n",
      "\n",
      "\n",
      "\u001b[1m> Entering new CrewAgentExecutor chain...\u001b[0m\n"
     ]
    },
    {
     "name": "stderr",
     "output_type": "stream",
     "text": [
      "2024-05-17 10:22:34,002 - 140704415666432 - manager.py-manager:282 - WARNING: Error in TokenCalcHandler.on_llm_start callback: KeyError('Could not automatically map gpt-4o to a tokeniser. Please use `tiktoken.get_encoding` to explicitly get the tokeniser you expect.')\n",
      "2024-05-17 10:22:34,003 - 140704415666432 - manager.py-manager:282 - WARNING: Error in TokenCalcHandler.on_llm_start callback: KeyError('Could not automatically map gpt-4o to a tokeniser. Please use `tiktoken.get_encoding` to explicitly get the tokeniser you expect.')\n",
      "2024-05-17 10:22:34,003 - 140704415666432 - manager.py-manager:282 - WARNING: Error in TokenCalcHandler.on_llm_start callback: KeyError('Could not automatically map gpt-4o to a tokeniser. Please use `tiktoken.get_encoding` to explicitly get the tokeniser you expect.')\n"
     ]
    },
    {
     "name": "stdout",
     "output_type": "stream",
     "text": [
      "\u001b[32;1m\u001b[1;3mThought: I now can give a great answer\n",
      "Final Answer: \n",
      "\n",
      "**Comprehensive Content Plan Document for Blog Article on Artificial Intelligence**\n",
      "\n",
      "---\n",
      "\n",
      "**1. Title:**\n",
      "- The Future of Artificial Intelligence: Latest Trends, Key Players, and What You Need to Know\n",
      "\n",
      "---\n",
      "\n",
      "**2. Target Audience:**\n",
      "- **Primary Audience:** Tech enthusiasts, IT professionals, business leaders, and decision-makers in tech industries.\n",
      "- **Interests:** Emerging technologies, AI applications, innovation in business, future tech trends.\n",
      "- **Pain Points:** Keeping up with rapid advancements, understanding practical applications, making informed technology investments.\n",
      "\n",
      "---\n",
      "\n",
      "**3. SEO Keywords:**\n",
      "- Artificial Intelligence, AI trends 2023, AI key players, AI in business, machine learning, AI applications, future of AI, AI news, AI technology.\n",
      "\n",
      "---\n",
      "\n",
      "**4. Detailed Content Outline:**\n",
      "\n",
      "**Introduction:**\n",
      "- Briefly introduce Artificial Intelligence (AI) and its growing significance in various industries.\n",
      "- Mention the objective of the article: to explore the latest trends, key players, and noteworthy news in AI to help readers stay informed and make better decisions.\n",
      "\n",
      "**I. Latest Trends in Artificial Intelligence:**\n",
      "   - **A. AI in Healthcare:**\n",
      "     - Discuss advancements in AI for diagnostics, treatment plans, and patient management.\n",
      "     - Mention notable companies like IBM Watson Health, Google Health.\n",
      "   - **B. AI in Autonomous Vehicles:**\n",
      "     - Analyze the progress in self-driving cars and other autonomous vehicles.\n",
      "     - Highlight contributions from Tesla, Waymo, and Uber.\n",
      "   - **C. AI in Natural Language Processing (NLP):**\n",
      "     - Explore trends in language models, including OpenAI's GPT-3 and GPT-4.\n",
      "     - Discuss applications in customer service, content creation, and more.\n",
      "   - **D. AI in Cybersecurity:**\n",
      "     - Explain how AI is enhancing cybersecurity measures.\n",
      "     - Mention key players like Darktrace and CrowdStrike.\n",
      "   - **E. AI in Finance:**\n",
      "     - Discuss the role of AI in financial services, including algorithmic trading and fraud detection.\n",
      "     - Reference companies such as JPMorgan Chase, Mastercard.\n",
      "\n",
      "**II. Key Players in the AI Industry:**\n",
      "   - **A. Tech Giants:**\n",
      "     - Google AI, Microsoft Azure AI, IBM Watson, and Amazon Web Services (AWS).\n",
      "   - **B. Startups and Innovators:**\n",
      "     - OpenAI, DeepMind, UiPath, and DataRobot.\n",
      "   - **C. Academic and Research Institutions:**\n",
      "     - MIT, Stanford University's AI Lab, and Carnegie Mellon University.\n",
      "\n",
      "**III. Noteworthy News and Developments:**\n",
      "   - **A. Breakthroughs in AI Research:**\n",
      "     - Recent publications and findings from leading AI conferences (e.g., NeurIPS, ICML).\n",
      "   - **B. Regulatory Changes:**\n",
      "     - Updates on AI regulations and ethical guidelines from governments and organizations.\n",
      "   - **C. Major Acquisitions and Partnerships:**\n",
      "     - Notable acquisitions (e.g., Google's acquisition of DeepMind) and strategic partnerships in the AI space.\n",
      "\n",
      "**IV. Practical Applications of AI:**\n",
      "   - **A. AI in Everyday Life:**\n",
      "     - Examples of AI in consumer products (e.g., smart home devices, virtual assistants).\n",
      "   - **B. AI in Business Operations:**\n",
      "     - How AI is transforming industries like retail, manufacturing, and logistics.\n",
      "\n",
      "**V. Challenges and Ethical Considerations:**\n",
      "   - **A. Ethical AI:**\n",
      "     - Discuss the importance of ethical AI and fairness in machine learning.\n",
      "   - **B. Job Displacement:**\n",
      "     - Address concerns about AI and job displacement, and potential solutions.\n",
      "   - **C. Bias and Transparency:**\n",
      "     - Explain the issues of bias in AI and the need for transparency in AI algorithms.\n",
      "\n",
      "**VI. Call to Action:**\n",
      "   - Encourage readers to stay updated with the latest in AI by subscribing to the blog.\n",
      "   - Invite readers to share their thoughts and experiences with AI in the comments section.\n",
      "   - Provide links to additional resources and tools for those looking to implement AI in their business.\n",
      "\n",
      "**Resources:**\n",
      "- **Websites and Journals:**\n",
      "  - IEEE Spectrum, MIT Technology Review, AI Magazine, NeurIPS Proceedings.\n",
      "- **Official Blogs:**\n",
      "  - Google AI Blog, Microsoft AI Blog, OpenAI Blog.\n",
      "- **Books:**\n",
      "  - \"Artificial Intelligence: A Modern Approach\" by Stuart Russell and Peter Norvig.\n",
      "- **Research Papers:**\n",
      "  - Recent papers from leading AI conferences and journals.\n",
      "\n",
      "---\n",
      "\n",
      "This comprehensive content plan is designed to ensure the article on Artificial Intelligence is engaging, informative, and actionable, meeting the needs and interests of the target audience.\u001b[0m\n",
      "\n",
      "\u001b[1m> Finished chain.\u001b[0m\n",
      "\u001b[1m\u001b[92m [DEBUG]: == [Content Planner] Task output: **Comprehensive Content Plan Document for Blog Article on Artificial Intelligence**\n",
      "\n",
      "---\n",
      "\n",
      "**1. Title:**\n",
      "- The Future of Artificial Intelligence: Latest Trends, Key Players, and What You Need to Know\n",
      "\n",
      "---\n",
      "\n",
      "**2. Target Audience:**\n",
      "- **Primary Audience:** Tech enthusiasts, IT professionals, business leaders, and decision-makers in tech industries.\n",
      "- **Interests:** Emerging technologies, AI applications, innovation in business, future tech trends.\n",
      "- **Pain Points:** Keeping up with rapid advancements, understanding practical applications, making informed technology investments.\n",
      "\n",
      "---\n",
      "\n",
      "**3. SEO Keywords:**\n",
      "- Artificial Intelligence, AI trends 2023, AI key players, AI in business, machine learning, AI applications, future of AI, AI news, AI technology.\n",
      "\n",
      "---\n",
      "\n",
      "**4. Detailed Content Outline:**\n",
      "\n",
      "**Introduction:**\n",
      "- Briefly introduce Artificial Intelligence (AI) and its growing significance in various industries.\n",
      "- Mention the objective of the article: to explore the latest trends, key players, and noteworthy news in AI to help readers stay informed and make better decisions.\n",
      "\n",
      "**I. Latest Trends in Artificial Intelligence:**\n",
      "   - **A. AI in Healthcare:**\n",
      "     - Discuss advancements in AI for diagnostics, treatment plans, and patient management.\n",
      "     - Mention notable companies like IBM Watson Health, Google Health.\n",
      "   - **B. AI in Autonomous Vehicles:**\n",
      "     - Analyze the progress in self-driving cars and other autonomous vehicles.\n",
      "     - Highlight contributions from Tesla, Waymo, and Uber.\n",
      "   - **C. AI in Natural Language Processing (NLP):**\n",
      "     - Explore trends in language models, including OpenAI's GPT-3 and GPT-4.\n",
      "     - Discuss applications in customer service, content creation, and more.\n",
      "   - **D. AI in Cybersecurity:**\n",
      "     - Explain how AI is enhancing cybersecurity measures.\n",
      "     - Mention key players like Darktrace and CrowdStrike.\n",
      "   - **E. AI in Finance:**\n",
      "     - Discuss the role of AI in financial services, including algorithmic trading and fraud detection.\n",
      "     - Reference companies such as JPMorgan Chase, Mastercard.\n",
      "\n",
      "**II. Key Players in the AI Industry:**\n",
      "   - **A. Tech Giants:**\n",
      "     - Google AI, Microsoft Azure AI, IBM Watson, and Amazon Web Services (AWS).\n",
      "   - **B. Startups and Innovators:**\n",
      "     - OpenAI, DeepMind, UiPath, and DataRobot.\n",
      "   - **C. Academic and Research Institutions:**\n",
      "     - MIT, Stanford University's AI Lab, and Carnegie Mellon University.\n",
      "\n",
      "**III. Noteworthy News and Developments:**\n",
      "   - **A. Breakthroughs in AI Research:**\n",
      "     - Recent publications and findings from leading AI conferences (e.g., NeurIPS, ICML).\n",
      "   - **B. Regulatory Changes:**\n",
      "     - Updates on AI regulations and ethical guidelines from governments and organizations.\n",
      "   - **C. Major Acquisitions and Partnerships:**\n",
      "     - Notable acquisitions (e.g., Google's acquisition of DeepMind) and strategic partnerships in the AI space.\n",
      "\n",
      "**IV. Practical Applications of AI:**\n",
      "   - **A. AI in Everyday Life:**\n",
      "     - Examples of AI in consumer products (e.g., smart home devices, virtual assistants).\n",
      "   - **B. AI in Business Operations:**\n",
      "     - How AI is transforming industries like retail, manufacturing, and logistics.\n",
      "\n",
      "**V. Challenges and Ethical Considerations:**\n",
      "   - **A. Ethical AI:**\n",
      "     - Discuss the importance of ethical AI and fairness in machine learning.\n",
      "   - **B. Job Displacement:**\n",
      "     - Address concerns about AI and job displacement, and potential solutions.\n",
      "   - **C. Bias and Transparency:**\n",
      "     - Explain the issues of bias in AI and the need for transparency in AI algorithms.\n",
      "\n",
      "**VI. Call to Action:**\n",
      "   - Encourage readers to stay updated with the latest in AI by subscribing to the blog.\n",
      "   - Invite readers to share their thoughts and experiences with AI in the comments section.\n",
      "   - Provide links to additional resources and tools for those looking to implement AI in their business.\n",
      "\n",
      "**Resources:**\n",
      "- **Websites and Journals:**\n",
      "  - IEEE Spectrum, MIT Technology Review, AI Magazine, NeurIPS Proceedings.\n",
      "- **Official Blogs:**\n",
      "  - Google AI Blog, Microsoft AI Blog, OpenAI Blog.\n",
      "- **Books:**\n",
      "  - \"Artificial Intelligence: A Modern Approach\" by Stuart Russell and Peter Norvig.\n",
      "- **Research Papers:**\n",
      "  - Recent papers from leading AI conferences and journals.\n",
      "\n",
      "---\n",
      "\n",
      "This comprehensive content plan is designed to ensure the article on Artificial Intelligence is engaging, informative, and actionable, meeting the needs and interests of the target audience.\n",
      "\n",
      "\u001b[00m\n",
      "\u001b[1m\u001b[95m [DEBUG]: == Working Agent: Content Writer\u001b[00m\n",
      "\u001b[1m\u001b[95m [INFO]: == Starting Task: 1. Use the content plan to craft a compelling blog post on Artificial Intelligence.\n",
      "2. Incorporate SEO keywords naturally.\n",
      "3. Sections/Subtitles are properly named in an engaging manner.\n",
      "4. Ensure the post is structured with an engaging introduction, insightful body, and a summarizing conclusion.\n",
      "5. Proofread for grammatical errors and alignment with the brand's voice.\n",
      "\u001b[00m\n",
      "\n",
      "\n",
      "\u001b[1m> Entering new CrewAgentExecutor chain...\u001b[0m\n"
     ]
    },
    {
     "name": "stderr",
     "output_type": "stream",
     "text": [
      "2024-05-17 10:23:00,137 - 140704415666432 - manager.py-manager:282 - WARNING: Error in TokenCalcHandler.on_llm_start callback: KeyError('Could not automatically map gpt-4o to a tokeniser. Please use `tiktoken.get_encoding` to explicitly get the tokeniser you expect.')\n",
      "2024-05-17 10:23:00,138 - 140704415666432 - manager.py-manager:282 - WARNING: Error in TokenCalcHandler.on_llm_start callback: KeyError('Could not automatically map gpt-4o to a tokeniser. Please use `tiktoken.get_encoding` to explicitly get the tokeniser you expect.')\n",
      "2024-05-17 10:23:00,138 - 140704415666432 - manager.py-manager:282 - WARNING: Error in TokenCalcHandler.on_llm_start callback: KeyError('Could not automatically map gpt-4o to a tokeniser. Please use `tiktoken.get_encoding` to explicitly get the tokeniser you expect.')\n"
     ]
    },
    {
     "name": "stdout",
     "output_type": "stream",
     "text": [
      "\u001b[32;1m\u001b[1;3mThought: I now can give a great answer\n",
      "Final Answer: \n",
      "\n",
      "```markdown\n",
      "# The Future of Artificial Intelligence: Latest Trends, Key Players, and What You Need to Know\n",
      "\n",
      "Artificial Intelligence (AI) has evolved from a futuristic concept to a transformative force in various industries. As AI continues to grow in significance, understanding its latest trends, key players, and noteworthy news becomes essential for tech enthusiasts, IT professionals, and business leaders. This article aims to explore these aspects, helping readers stay informed and make better decisions.\n",
      "\n",
      "## Latest Trends in Artificial Intelligence\n",
      "\n",
      "### AI in Healthcare\n",
      "\n",
      "One of the most promising areas for AI is healthcare. With advancements in AI-powered diagnostics, treatment plans, and patient management, the industry is witnessing a revolution. Notable companies like IBM Watson Health and Google Health are leading this transformation by leveraging machine learning algorithms to analyze medical data, predict patient outcomes, and assist in personalized treatment plans. The integration of AI in healthcare not only improves efficiency but also enhances patient care.\n",
      "\n",
      "### AI in Autonomous Vehicles\n",
      "\n",
      "The autonomous vehicle industry is another field experiencing rapid AI advancements. Companies like Tesla, Waymo, and Uber are at the forefront of developing self-driving cars that promise to redefine transportation. AI algorithms enable these vehicles to navigate complex environments, recognize obstacles, and make real-time decisions, enhancing safety and convenience. The progress in this sector indicates a future where autonomous vehicles become a common sight on our roads.\n",
      "\n",
      "### AI in Natural Language Processing (NLP)\n",
      "\n",
      "Natural Language Processing (NLP) is making significant strides, with language models like OpenAI's GPT-3 and GPT-4 setting new benchmarks. These models are capable of understanding and generating human-like text, making them invaluable for applications in customer service, content creation, and more. The ability of AI to comprehend and interact in natural language opens up numerous possibilities for businesses to enhance user experiences.\n",
      "\n",
      "### AI in Cybersecurity\n",
      "\n",
      "In the realm of cybersecurity, AI is playing a crucial role in identifying and mitigating threats. Companies like Darktrace and CrowdStrike utilize AI to detect unusual patterns and potential cyber-attacks in real-time. By continuously learning from new data, these AI systems can predict and prevent security breaches, providing a robust defense mechanism for organizations.\n",
      "\n",
      "### AI in Finance\n",
      "\n",
      "AI is also revolutionizing the financial sector, particularly in areas like algorithmic trading and fraud detection. Financial giants such as JPMorgan Chase and Mastercard are implementing AI to analyze market trends, execute trades at optimal times, and detect fraudulent transactions. The precision and speed of AI in processing vast amounts of financial data offer a significant advantage in the competitive world of finance.\n",
      "\n",
      "## Key Players in the AI Industry\n",
      "\n",
      "### Tech Giants\n",
      "\n",
      "Several tech giants are leading the charge in AI innovation. Google AI, Microsoft Azure AI, IBM Watson, and Amazon Web Services (AWS) are some of the prominent names driving advancements in AI technology. These companies invest heavily in research and development, bringing cutting-edge AI solutions to market and setting industry standards.\n",
      "\n",
      "### Startups and Innovators\n",
      "\n",
      "In addition to tech giants, numerous startups and innovators are making their mark in the AI landscape. OpenAI, DeepMind, UiPath, and DataRobot are notable for their pioneering work in various AI domains. These companies are pushing the boundaries of what AI can achieve, from creating sophisticated language models to developing automation tools that streamline business processes.\n",
      "\n",
      "### Academic and Research Institutions\n",
      "\n",
      "Academic and research institutions play a pivotal role in AI advancements. Prestigious institutions like MIT, Stanford University's AI Lab, and Carnegie Mellon University are at the forefront of AI research. Their contributions include groundbreaking research papers, innovative algorithms, and the training of future AI experts, fostering continuous growth in the field.\n",
      "\n",
      "## Noteworthy News and Developments\n",
      "\n",
      "### Breakthroughs in AI Research\n",
      "\n",
      "Recent breakthroughs in AI research have been showcased at leading conferences such as NeurIPS and ICML. These events highlight cutting-edge developments and novel AI applications, drawing attention to the latest findings from researchers around the world. Staying updated with these publications is crucial for anyone interested in the future of AI.\n",
      "\n",
      "### Regulatory Changes\n",
      "\n",
      "The rapid growth of AI has prompted regulatory changes and the establishment of ethical guidelines. Governments and organizations are working to create frameworks that ensure the responsible use of AI, addressing concerns related to privacy, security, and fairness. Keeping track of these regulatory updates is essential for businesses and developers to remain compliant and ethically sound.\n",
      "\n",
      "### Major Acquisitions and Partnerships\n",
      "\n",
      "The AI industry has witnessed several significant acquisitions and strategic partnerships. For instance, Google's acquisition of DeepMind has bolstered its AI capabilities, while collaborations between tech giants and startups foster innovation. These alliances are crucial in accelerating AI development and bringing new solutions to market.\n",
      "\n",
      "## Practical Applications of AI\n",
      "\n",
      "### AI in Everyday Life\n",
      "\n",
      "AI has become an integral part of everyday life, with applications ranging from smart home devices to virtual assistants. Products like Amazon's Alexa, Google Home, and Apple's Siri utilize AI to perform tasks, answer queries, and control other smart devices, enhancing convenience and efficiency for users.\n",
      "\n",
      "### AI in Business Operations\n",
      "\n",
      "In business operations, AI is transforming industries such as retail, manufacturing, and logistics. Companies leverage AI for demand forecasting, inventory management, and process optimization, resulting in increased productivity and reduced costs. The integration of AI in business processes is driving innovation and competitive advantage.\n",
      "\n",
      "## Challenges and Ethical Considerations\n",
      "\n",
      "### Ethical AI\n",
      "\n",
      "The importance of ethical AI cannot be overstated. Ensuring fairness, transparency, and accountability in AI systems is crucial to prevent biases and promote trust. Developers and businesses must prioritize ethical considerations in their AI implementations to minimize negative impacts on society.\n",
      "\n",
      "### Job Displacement\n",
      "\n",
      "One of the significant concerns surrounding AI is job displacement. While AI can automate repetitive tasks, it also threatens to replace certain job roles. Addressing this issue requires a balanced approach, including reskilling programs and policies that support workers transitioning to new roles in the evolving job market.\n",
      "\n",
      "### Bias and Transparency\n",
      "\n",
      "AI systems can inadvertently perpetuate biases present in their training data, leading to unfair outcomes. Ensuring transparency in AI algorithms and providing explanations for AI decisions are necessary steps to mitigate these biases. Ongoing research and dialogue on bias and transparency are essential to create more equitable AI systems.\n",
      "\n",
      "## Call to Action\n",
      "\n",
      "To stay updated with the latest in AI, consider subscribing to our blog. We invite you to share your thoughts and experiences with AI in the comments section below. For those looking to implement AI in their business, we provide links to additional resources and tools to help you get started.\n",
      "\n",
      "## Resources\n",
      "\n",
      "- **Websites and Journals:**\n",
      "  - [IEEE Spectrum](https://spectrum.ieee.org/)\n",
      "  - [MIT Technology Review](https://www.technologyreview.com/)\n",
      "  - [AI Magazine](https://www.aaai.org/Magazine/magazine.php)\n",
      "  - [NeurIPS Proceedings](https://proceedings.neurips.cc/)\n",
      "\n",
      "- **Official Blogs:**\n",
      "  - [Google AI Blog](https://ai.googleblog.com/)\n",
      "  - [Microsoft AI Blog](https://blogs.microsoft.com/ai/)\n",
      "  - [OpenAI Blog](https://openai.com/blog/)\n",
      "\n",
      "- **Books:**\n",
      "  - \"Artificial Intelligence: A Modern Approach\" by Stuart Russell and Peter Norvig.\n",
      "\n",
      "- **Research Papers:**\n",
      "  - Recent papers from leading AI conferences and journals.\n",
      "\n",
      "By leveraging these resources and staying informed, you can navigate the rapidly evolving landscape of AI and harness its potential for innovation and growth.\n",
      "```\n",
      "\n",
      "I hope this article meets the expectations and provides valuable insights into the world of Artificial Intelligence. Please feel free to provide feedback or request further revisions.\n",
      "\n",
      "\u001b[0m\n",
      "\n",
      "\u001b[1m> Finished chain.\u001b[0m\n",
      "\u001b[1m\u001b[92m [DEBUG]: == [Content Writer] Task output: ```markdown\n",
      "# The Future of Artificial Intelligence: Latest Trends, Key Players, and What You Need to Know\n",
      "\n",
      "Artificial Intelligence (AI) has evolved from a futuristic concept to a transformative force in various industries. As AI continues to grow in significance, understanding its latest trends, key players, and noteworthy news becomes essential for tech enthusiasts, IT professionals, and business leaders. This article aims to explore these aspects, helping readers stay informed and make better decisions.\n",
      "\n",
      "## Latest Trends in Artificial Intelligence\n",
      "\n",
      "### AI in Healthcare\n",
      "\n",
      "One of the most promising areas for AI is healthcare. With advancements in AI-powered diagnostics, treatment plans, and patient management, the industry is witnessing a revolution. Notable companies like IBM Watson Health and Google Health are leading this transformation by leveraging machine learning algorithms to analyze medical data, predict patient outcomes, and assist in personalized treatment plans. The integration of AI in healthcare not only improves efficiency but also enhances patient care.\n",
      "\n",
      "### AI in Autonomous Vehicles\n",
      "\n",
      "The autonomous vehicle industry is another field experiencing rapid AI advancements. Companies like Tesla, Waymo, and Uber are at the forefront of developing self-driving cars that promise to redefine transportation. AI algorithms enable these vehicles to navigate complex environments, recognize obstacles, and make real-time decisions, enhancing safety and convenience. The progress in this sector indicates a future where autonomous vehicles become a common sight on our roads.\n",
      "\n",
      "### AI in Natural Language Processing (NLP)\n",
      "\n",
      "Natural Language Processing (NLP) is making significant strides, with language models like OpenAI's GPT-3 and GPT-4 setting new benchmarks. These models are capable of understanding and generating human-like text, making them invaluable for applications in customer service, content creation, and more. The ability of AI to comprehend and interact in natural language opens up numerous possibilities for businesses to enhance user experiences.\n",
      "\n",
      "### AI in Cybersecurity\n",
      "\n",
      "In the realm of cybersecurity, AI is playing a crucial role in identifying and mitigating threats. Companies like Darktrace and CrowdStrike utilize AI to detect unusual patterns and potential cyber-attacks in real-time. By continuously learning from new data, these AI systems can predict and prevent security breaches, providing a robust defense mechanism for organizations.\n",
      "\n",
      "### AI in Finance\n",
      "\n",
      "AI is also revolutionizing the financial sector, particularly in areas like algorithmic trading and fraud detection. Financial giants such as JPMorgan Chase and Mastercard are implementing AI to analyze market trends, execute trades at optimal times, and detect fraudulent transactions. The precision and speed of AI in processing vast amounts of financial data offer a significant advantage in the competitive world of finance.\n",
      "\n",
      "## Key Players in the AI Industry\n",
      "\n",
      "### Tech Giants\n",
      "\n",
      "Several tech giants are leading the charge in AI innovation. Google AI, Microsoft Azure AI, IBM Watson, and Amazon Web Services (AWS) are some of the prominent names driving advancements in AI technology. These companies invest heavily in research and development, bringing cutting-edge AI solutions to market and setting industry standards.\n",
      "\n",
      "### Startups and Innovators\n",
      "\n",
      "In addition to tech giants, numerous startups and innovators are making their mark in the AI landscape. OpenAI, DeepMind, UiPath, and DataRobot are notable for their pioneering work in various AI domains. These companies are pushing the boundaries of what AI can achieve, from creating sophisticated language models to developing automation tools that streamline business processes.\n",
      "\n",
      "### Academic and Research Institutions\n",
      "\n",
      "Academic and research institutions play a pivotal role in AI advancements. Prestigious institutions like MIT, Stanford University's AI Lab, and Carnegie Mellon University are at the forefront of AI research. Their contributions include groundbreaking research papers, innovative algorithms, and the training of future AI experts, fostering continuous growth in the field.\n",
      "\n",
      "## Noteworthy News and Developments\n",
      "\n",
      "### Breakthroughs in AI Research\n",
      "\n",
      "Recent breakthroughs in AI research have been showcased at leading conferences such as NeurIPS and ICML. These events highlight cutting-edge developments and novel AI applications, drawing attention to the latest findings from researchers around the world. Staying updated with these publications is crucial for anyone interested in the future of AI.\n",
      "\n",
      "### Regulatory Changes\n",
      "\n",
      "The rapid growth of AI has prompted regulatory changes and the establishment of ethical guidelines. Governments and organizations are working to create frameworks that ensure the responsible use of AI, addressing concerns related to privacy, security, and fairness. Keeping track of these regulatory updates is essential for businesses and developers to remain compliant and ethically sound.\n",
      "\n",
      "### Major Acquisitions and Partnerships\n",
      "\n",
      "The AI industry has witnessed several significant acquisitions and strategic partnerships. For instance, Google's acquisition of DeepMind has bolstered its AI capabilities, while collaborations between tech giants and startups foster innovation. These alliances are crucial in accelerating AI development and bringing new solutions to market.\n",
      "\n",
      "## Practical Applications of AI\n",
      "\n",
      "### AI in Everyday Life\n",
      "\n",
      "AI has become an integral part of everyday life, with applications ranging from smart home devices to virtual assistants. Products like Amazon's Alexa, Google Home, and Apple's Siri utilize AI to perform tasks, answer queries, and control other smart devices, enhancing convenience and efficiency for users.\n",
      "\n",
      "### AI in Business Operations\n",
      "\n",
      "In business operations, AI is transforming industries such as retail, manufacturing, and logistics. Companies leverage AI for demand forecasting, inventory management, and process optimization, resulting in increased productivity and reduced costs. The integration of AI in business processes is driving innovation and competitive advantage.\n",
      "\n",
      "## Challenges and Ethical Considerations\n",
      "\n",
      "### Ethical AI\n",
      "\n",
      "The importance of ethical AI cannot be overstated. Ensuring fairness, transparency, and accountability in AI systems is crucial to prevent biases and promote trust. Developers and businesses must prioritize ethical considerations in their AI implementations to minimize negative impacts on society.\n",
      "\n",
      "### Job Displacement\n",
      "\n",
      "One of the significant concerns surrounding AI is job displacement. While AI can automate repetitive tasks, it also threatens to replace certain job roles. Addressing this issue requires a balanced approach, including reskilling programs and policies that support workers transitioning to new roles in the evolving job market.\n",
      "\n",
      "### Bias and Transparency\n",
      "\n",
      "AI systems can inadvertently perpetuate biases present in their training data, leading to unfair outcomes. Ensuring transparency in AI algorithms and providing explanations for AI decisions are necessary steps to mitigate these biases. Ongoing research and dialogue on bias and transparency are essential to create more equitable AI systems.\n",
      "\n",
      "## Call to Action\n",
      "\n",
      "To stay updated with the latest in AI, consider subscribing to our blog. We invite you to share your thoughts and experiences with AI in the comments section below. For those looking to implement AI in their business, we provide links to additional resources and tools to help you get started.\n",
      "\n",
      "## Resources\n",
      "\n",
      "- **Websites and Journals:**\n",
      "  - [IEEE Spectrum](https://spectrum.ieee.org/)\n",
      "  - [MIT Technology Review](https://www.technologyreview.com/)\n",
      "  - [AI Magazine](https://www.aaai.org/Magazine/magazine.php)\n",
      "  - [NeurIPS Proceedings](https://proceedings.neurips.cc/)\n",
      "\n",
      "- **Official Blogs:**\n",
      "  - [Google AI Blog](https://ai.googleblog.com/)\n",
      "  - [Microsoft AI Blog](https://blogs.microsoft.com/ai/)\n",
      "  - [OpenAI Blog](https://openai.com/blog/)\n",
      "\n",
      "- **Books:**\n",
      "  - \"Artificial Intelligence: A Modern Approach\" by Stuart Russell and Peter Norvig.\n",
      "\n",
      "- **Research Papers:**\n",
      "  - Recent papers from leading AI conferences and journals.\n",
      "\n",
      "By leveraging these resources and staying informed, you can navigate the rapidly evolving landscape of AI and harness its potential for innovation and growth.\n",
      "```\n",
      "\n",
      "I hope this article meets the expectations and provides valuable insights into the world of Artificial Intelligence. Please feel free to provide feedback or request further revisions.\n",
      "\n",
      "\u001b[00m\n",
      "\u001b[1m\u001b[95m [DEBUG]: == Working Agent: Editor\u001b[00m\n",
      "\u001b[1m\u001b[95m [INFO]: == Starting Task: Proofread the given blog post for grammatical errors and alignment with the brand's voice.\u001b[00m\n",
      "\n",
      "\n",
      "\u001b[1m> Entering new CrewAgentExecutor chain...\u001b[0m\n"
     ]
    }
   ],
   "source": [
    "result = crew.kickoff(inputs={\"topic\": \"Artificial Intelligence\"})"
   ]
  },
  {
   "cell_type": "markdown",
   "metadata": {},
   "source": [
    "- Display the results of your execution as markdown in the notebook."
   ]
  },
  {
   "cell_type": "code",
   "execution_count": null,
   "metadata": {
    "height": 47
   },
   "outputs": [],
   "source": [
    "from IPython.display import Markdown\n",
    "Markdown(result)"
   ]
  },
  {
   "cell_type": "markdown",
   "metadata": {},
   "source": [
    "## Try it Yourself\n",
    "\n",
    "- Pass in a topic of your choice and see what the agents come up with!"
   ]
  },
  {
   "cell_type": "code",
   "execution_count": null,
   "metadata": {
    "height": 47
   },
   "outputs": [],
   "source": [
    "topic = \"YOUR TOPIC HERE\"\n",
    "result = crew.kickoff(inputs={\"topic\": topic})"
   ]
  },
  {
   "cell_type": "code",
   "execution_count": null,
   "metadata": {
    "height": 30
   },
   "outputs": [],
   "source": [
    "Markdown(result)"
   ]
  },
  {
   "cell_type": "markdown",
   "metadata": {},
   "source": [
    "<a name='1'></a>\n",
    " ## Other Popular Models as LLM for your Agents"
   ]
  },
  {
   "cell_type": "markdown",
   "metadata": {},
   "source": [
    "#### Hugging Face (HuggingFaceHub endpoint)\n",
    "\n",
    "```Python\n",
    "from langchain_community.llms import HuggingFaceHub\n",
    "\n",
    "llm = HuggingFaceHub(\n",
    "    repo_id=\"HuggingFaceH4/zephyr-7b-beta\",\n",
    "    huggingfacehub_api_token=\"<HF_TOKEN_HERE>\",\n",
    "    task=\"text-generation\",\n",
    ")\n",
    "\n",
    "### you will pass \"llm\" to your agent function\n",
    "```"
   ]
  },
  {
   "cell_type": "markdown",
   "metadata": {},
   "source": [
    "#### Mistral API\n",
    "\n",
    "```Python\n",
    "OPENAI_API_KEY=your-mistral-api-key\n",
    "OPENAI_API_BASE=https://api.mistral.ai/v1\n",
    "OPENAI_MODEL_NAME=\"mistral-small\"\n",
    "```"
   ]
  },
  {
   "cell_type": "markdown",
   "metadata": {},
   "source": [
    "#### Cohere\n",
    "\n",
    "```Python\n",
    "from langchain_community.chat_models import ChatCohere\n",
    "# Initialize language model\n",
    "os.environ[\"COHERE_API_KEY\"] = \"your-cohere-api-key\"\n",
    "llm = ChatCohere()\n",
    "\n",
    "### you will pass \"llm\" to your agent function\n",
    "```"
   ]
  },
  {
   "cell_type": "markdown",
   "metadata": {},
   "source": [
    "### For using Llama locally with Ollama and more, checkout the crewAI documentation on [Connecting to any LLM](https://docs.crewai.com/how-to/LLM-Connections/)."
   ]
  },
  {
   "cell_type": "code",
   "execution_count": null,
   "metadata": {
    "height": 30
   },
   "outputs": [],
   "source": []
  },
  {
   "cell_type": "code",
   "execution_count": null,
   "metadata": {
    "height": 30
   },
   "outputs": [],
   "source": []
  },
  {
   "cell_type": "code",
   "execution_count": null,
   "metadata": {
    "height": 30
   },
   "outputs": [],
   "source": []
  }
 ],
 "metadata": {
  "colab": {
   "gpuType": "T4",
   "provenance": []
  },
  "kernelspec": {
   "display_name": "Python 3 (ipykernel)",
   "language": "python",
   "name": "python3"
  },
  "language_info": {
   "codemirror_mode": {
    "name": "ipython",
    "version": 3
   },
   "file_extension": ".py",
   "mimetype": "text/x-python",
   "name": "python",
   "nbconvert_exporter": "python",
   "pygments_lexer": "ipython3",
   "version": "3.11.7"
  }
 },
 "nbformat": 4,
 "nbformat_minor": 4
}
